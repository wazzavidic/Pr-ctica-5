{
 "cells": [
  {
   "cell_type": "markdown",
   "metadata": {},
   "source": [
    "# Minería de Datos"
   ]
  },
  {
   "cell_type": "markdown",
   "metadata": {},
   "source": [
    "Práctica 5 - Miguel Esteban Piedra López A64389"
   ]
  },
  {
   "cell_type": "markdown",
   "metadata": {},
   "source": [
    "## 1. Conjunto de Datos"
   ]
  },
  {
   "cell_type": "markdown",
   "metadata": {},
   "source": [
    "Proceda a descargar usando los datasets de scikit-learn el conjunto de datos llamado breast_cancer. Imprima las dimensiones del conjunto de datos, tanto a nivel de atributos como a nivel de clases."
   ]
  },
  {
   "cell_type": "code",
   "execution_count": 405,
   "metadata": {
    "collapsed": true
   },
   "outputs": [],
   "source": [
    "import pandas as pd\n",
    "import numpy as np\n",
    "import matplotlib.pyplot as plt\n",
    "%matplotlib inline"
   ]
  },
  {
   "cell_type": "code",
   "execution_count": 406,
   "metadata": {
    "collapsed": true
   },
   "outputs": [],
   "source": [
    "from sklearn.datasets import load_breast_cancer"
   ]
  },
  {
   "cell_type": "code",
   "execution_count": 407,
   "metadata": {},
   "outputs": [
    {
     "name": "stdout",
     "output_type": "stream",
     "text": [
      "El conjunto de datos breast_cancer posee 30 atributos y 569 instancias. Las clases malignant y benign etiquetan estos valores.\n"
     ]
    }
   ],
   "source": [
    "cancer = load_breast_cancer()\n",
    "print(\"El conjunto de datos breast_cancer posee\",cancer.data.shape[1],\"atributos y\",cancer.data.shape[0],\"instancias.\" \n",
    "      \" Las clases\",cancer.target_names[0],\"y\",cancer.target_names[1],\"etiquetan estos valores.\")"
   ]
  },
  {
   "cell_type": "markdown",
   "metadata": {},
   "source": [
    "## 2. Algoritmos de clasificación:"
   ]
  },
  {
   "cell_type": "markdown",
   "metadata": {},
   "source": [
    "\n",
    "Seleccione 5 algoritmos de clasificación, procure evitar el uso de los algoritmos básicos, de hecho puede recurrir al uso de algoritmos que no se hayan visto en clase. Para cada algoritmo construya el clasificador usando los parámetros \"estimados\" o \"por defecto\"."
   ]
  },
  {
   "cell_type": "code",
   "execution_count": 408,
   "metadata": {
    "collapsed": true
   },
   "outputs": [],
   "source": [
    "from sklearn.naive_bayes import BernoulliNB\n",
    "from sklearn.naive_bayes import MultinomialNB\n",
    "from sklearn.gaussian_process import GaussianProcessClassifier\n",
    "from sklearn.discriminant_analysis import QuadraticDiscriminantAnalysis\n",
    "from sklearn.svm import SVC"
   ]
  },
  {
   "cell_type": "markdown",
   "metadata": {},
   "source": [
    "## 3. Validación tradicional:"
   ]
  },
  {
   "cell_type": "markdown",
   "metadata": {},
   "source": [
    "\n",
    "Separe el conjunto de entrenamiento, del conjunto de pruebas (30% para pruebas) y determine la eficiencia de cada método, con los valores \"estimados\" o \"por defecto\" del método."
   ]
  },
  {
   "cell_type": "code",
   "execution_count": 409,
   "metadata": {
    "collapsed": true
   },
   "outputs": [],
   "source": [
    "from sklearn.model_selection import train_test_split\n",
    "x_train, x_test, y_train, y_test = train_test_split(cancer.data, cancer.target, test_size=0.30, random_state=77)"
   ]
  },
  {
   "cell_type": "markdown",
   "metadata": {},
   "source": [
    "### Bernoulli NB"
   ]
  },
  {
   "cell_type": "code",
   "execution_count": 410,
   "metadata": {},
   "outputs": [
    {
     "name": "stdout",
     "output_type": "stream",
     "text": [
      "Training score: 0.623\n",
      "Test score: 0.637\n"
     ]
    }
   ],
   "source": [
    "clf1=BernoulliNB(alpha=1.0, binarize=0.0, class_prior=None, fit_prior=True)\n",
    "clf1.fit(x_train, y_train)\n",
    "print(\"Training score: {:.3f}\".format(clf1.score(x_train, y_train)))\n",
    "print(\"Test score: {:.3f}\".format(clf1.score(x_test, y_test)))"
   ]
  },
  {
   "cell_type": "markdown",
   "metadata": {},
   "source": [
    "### Multinomial NB"
   ]
  },
  {
   "cell_type": "code",
   "execution_count": 411,
   "metadata": {},
   "outputs": [
    {
     "name": "stdout",
     "output_type": "stream",
     "text": [
      "Training score: 0.894\n",
      "Test score: 0.901\n"
     ]
    }
   ],
   "source": [
    "clf2 = MultinomialNB(alpha=1.0, class_prior=None, fit_prior=True)\n",
    "clf2.fit(x_train, y_train)\n",
    "print(\"Training score: {:.3f}\".format(clf2.score(x_train, y_train)))\n",
    "print(\"Test score: {:.3f}\".format(clf2.score(x_test, y_test)))"
   ]
  },
  {
   "cell_type": "markdown",
   "metadata": {},
   "source": [
    "### Gaussian Process Classifier"
   ]
  },
  {
   "cell_type": "code",
   "execution_count": 412,
   "metadata": {},
   "outputs": [
    {
     "name": "stdout",
     "output_type": "stream",
     "text": [
      "Training score: 1.000\n",
      "Test score: 0.912\n"
     ]
    }
   ],
   "source": [
    "clf3=GaussianProcessClassifier(kernel=None, optimizer='fmin_l_bfgs_b', n_restarts_optimizer=0, max_iter_predict=100, warm_start=False, random_state=None, multi_class='one_vs_rest', n_jobs=1)\n",
    "clf3.fit(x_train, y_train)\n",
    "print(\"Training score: {:.3f}\".format(clf3.score(x_train, y_train)))\n",
    "print(\"Test score: {:.3f}\".format(clf3.score(x_test, y_test)))"
   ]
  },
  {
   "cell_type": "markdown",
   "metadata": {},
   "source": [
    "### Quadratic Discrimant Analysis"
   ]
  },
  {
   "cell_type": "code",
   "execution_count": 413,
   "metadata": {},
   "outputs": [
    {
     "name": "stdout",
     "output_type": "stream",
     "text": [
      "Training score: 0.970\n",
      "Test score: 0.971\n"
     ]
    }
   ],
   "source": [
    "clf4 = QuadraticDiscriminantAnalysis(priors=None, reg_param=0.0, store_covariance=False, store_covariances=None, tol=0.0001)\n",
    "clf4.fit(x_train, y_train)\n",
    "print(\"Training score: {:.3f}\".format(clf4.score(x_train, y_train)))\n",
    "print(\"Test score: {:.3f}\".format(clf4.score(x_test, y_test)))"
   ]
  },
  {
   "cell_type": "markdown",
   "metadata": {},
   "source": [
    "### Support Vector Classifier"
   ]
  },
  {
   "cell_type": "code",
   "execution_count": 414,
   "metadata": {},
   "outputs": [
    {
     "name": "stdout",
     "output_type": "stream",
     "text": [
      "Training score: 1.000\n",
      "Test score: 0.637\n"
     ]
    }
   ],
   "source": [
    "clf5 = SVC(C=1.0, cache_size=200, class_weight=None, coef0=0.0, decision_function_shape='ovr', degree=3, gamma='auto', kernel='rbf',\n",
    "    max_iter=-1, probability=False, random_state=None, shrinking=True, tol=0.001, verbose=False)\n",
    "clf5.fit(x_train, y_train)\n",
    "print(\"Training score: {:.3f}\".format(clf5.score(x_train, y_train)))\n",
    "print(\"Test score: {:.3f}\".format(clf5.score(x_test, y_test)))"
   ]
  },
  {
   "cell_type": "markdown",
   "metadata": {},
   "source": [
    "## 4. Afinamiento de parámetros del clasificador:"
   ]
  },
  {
   "cell_type": "markdown",
   "metadata": {},
   "source": [
    "Para cada método determine los mejores parámetros de manera tal que evite overfitting y underfitting. RECOMENDACIÓN: Construya una curva (cuando sea posible) de accuracy vrs. x_parametro, donde x_parametro corresponde al(os) parámetro(s) según el método elegido."
   ]
  },
  {
   "cell_type": "markdown",
   "metadata": {},
   "source": [
    "### Bernoulli NB"
   ]
  },
  {
   "cell_type": "code",
   "execution_count": 415,
   "metadata": {},
   "outputs": [
    {
     "data": {
      "image/png": "[encoded data removed]",
      "text/plain": [
       "<matplotlib.figure.Figure at 0x29327133d68>"
      ]
     },
     "metadata": {},
     "output_type": "display_data"
    }
   ],
   "source": [
    "lista1=[]\n",
    "lista2=[]\n",
    "numeros = range(1,100)\n",
    "for n in numeros:\n",
    "    clf6=BernoulliNB(alpha=1.0, binarize=n, class_prior=None, fit_prior=True)\n",
    "    clf6.fit(x_train, y_train)\n",
    "    score_temp=clf6.score(x_test, y_test)\n",
    "    score_temp2=clf6.score(x_train, y_train)\n",
    "    lista1.append(score_temp)\n",
    "    lista2.append(score_temp2)\n",
    "    \n",
    "\n",
    "plt.plot(numeros,lista1, label=\"Test\")\n",
    "plt.plot(numeros,lista2, label=\"Train\")\n",
    "plt.xlabel(\"binarize Value\")\n",
    "plt.ylabel(\"Score\")\n",
    "plt.legend(loc=4)\n",
    "plt.show()"
   ]
  },
  {
   "cell_type": "markdown",
   "metadata": {},
   "source": [
    "Establecer un valor del parámetro binarize de alrededor a 15 produce un modelo mucho mejor ajustado."
   ]
  },
  {
   "cell_type": "markdown",
   "metadata": {},
   "source": [
    "### Multinomial NB"
   ]
  },
  {
   "cell_type": "code",
   "execution_count": 416,
   "metadata": {},
   "outputs": [
    {
     "data": {
      "image/png": "[encoded data removed]",
      "text/plain": [
       "<matplotlib.figure.Figure at 0x29327892dd8>"
      ]
     },
     "metadata": {},
     "output_type": "display_data"
    }
   ],
   "source": [
    "lista1=[]\n",
    "lista2=[]\n",
    "numeros = range(1,100)\n",
    "for n in numeros:\n",
    "    clf7=MultinomialNB(alpha=n, class_prior=None, fit_prior=True)\n",
    "    clf7.fit(x_train, y_train)\n",
    "    score_temp=clf7.score(x_test, y_test)\n",
    "    score_temp2=clf7.score(x_train, y_train)\n",
    "    lista1.append(score_temp)\n",
    "    lista2.append(score_temp2)\n",
    "    \n",
    "\n",
    "plt.plot(numeros,lista1, label=\"Test\")\n",
    "plt.plot(numeros,lista2, label=\"Train\")\n",
    "plt.xlabel(\"alpha Value\")\n",
    "plt.ylabel(\"Score\")\n",
    "plt.legend(loc=4)\n",
    "plt.show()"
   ]
  },
  {
   "cell_type": "markdown",
   "metadata": {},
   "source": [
    "Establecer un valor del parámetro alpha de alrededor a 17 produce un modelo mucho con un training score un poco mejor, pero el modelo varía muy poco. Ya tenía muy buenos scores."
   ]
  },
  {
   "cell_type": "markdown",
   "metadata": {},
   "source": [
    "### Gaussian Process Classifier"
   ]
  },
  {
   "cell_type": "code",
   "execution_count": 417,
   "metadata": {},
   "outputs": [
    {
     "data": {
      "image/png": "[encoded data removed]",
      "text/plain": [
       "<matplotlib.figure.Figure at 0x29326a501d0>"
      ]
     },
     "metadata": {},
     "output_type": "display_data"
    }
   ],
   "source": [
    "lista1=[]\n",
    "lista2=[]\n",
    "numeros = range(1,100)\n",
    "for n in numeros:\n",
    "    clf9=GaussianProcessClassifier(kernel=None, optimizer='fmin_l_bfgs_b', n_restarts_optimizer=0, max_iter_predict=n, warm_start=False, random_state=None, multi_class='one_vs_rest', n_jobs=1)\n",
    "    clf9.fit(x_train, y_train)\n",
    "    score_temp=clf9.score(x_test, y_test)\n",
    "    score_temp2=clf9.score(x_train, y_train)\n",
    "    lista1.append(score_temp)\n",
    "    lista2.append(score_temp2)\n",
    "    \n",
    "\n",
    "plt.plot(numeros,lista1, label=\"Test\")\n",
    "plt.plot(numeros,lista2, label=\"Train\")\n",
    "plt.xlabel(\"max_iter_predict Value\")\n",
    "plt.ylabel(\"Score\")\n",
    "plt.legend(loc=5)\n",
    "plt.show()"
   ]
  },
  {
   "cell_type": "markdown",
   "metadata": {},
   "source": [
    "Se intentarón modificar varios valores de parámetros pero ninguno cambió los scores finales testing o de training que ya eran bastante altos de todas maneras."
   ]
  },
  {
   "cell_type": "markdown",
   "metadata": {},
   "source": [
    "### Quadratic Discrimant Analysis"
   ]
  },
  {
   "cell_type": "code",
   "execution_count": 418,
   "metadata": {},
   "outputs": [
    {
     "data": {
      "image/png": "[encoded data removed]",
      "text/plain": [
       "<matplotlib.figure.Figure at 0x2932789eb38>"
      ]
     },
     "metadata": {},
     "output_type": "display_data"
    }
   ],
   "source": [
    "lista1=[]\n",
    "lista2=[]\n",
    "numeros = range(0,2)\n",
    "for n in numeros:\n",
    "    clf8 = QuadraticDiscriminantAnalysis(priors=None, reg_param=n, store_covariance=True, store_covariances=None, tol=0.0001)\n",
    "    clf8.fit(x_train, y_train)\n",
    "    score_temp=clf8.score(x_test, y_test)\n",
    "    score_temp2=clf8.score(x_train, y_train)\n",
    "    lista1.append(score_temp)\n",
    "    lista2.append(score_temp2)\n",
    "    \n",
    "\n",
    "plt.plot(numeros,lista1, label=\"Test\")\n",
    "plt.plot(numeros,lista2, label=\"Train\")\n",
    "plt.xlabel(\"reg_param Value\")\n",
    "plt.ylabel(\"Score\")\n",
    "plt.legend(loc=5)\n",
    "plt.show()"
   ]
  },
  {
   "cell_type": "markdown",
   "metadata": {},
   "source": [
    "Modificar los valores del parámetro reg_param causa que los valores de test y de training bajen un poco. Igualmente, en caso de que haya overfitting, es necesario experimentar con los parámetros que son muy buenos aunque se varíe este valor."
   ]
  },
  {
   "cell_type": "markdown",
   "metadata": {},
   "source": [
    "### Support Vector Classifier"
   ]
  },
  {
   "cell_type": "code",
   "execution_count": 421,
   "metadata": {},
   "outputs": [
    {
     "name": "stdout",
     "output_type": "stream",
     "text": [
      "Training score: 0.975\n",
      "Test score: 0.965\n"
     ]
    }
   ],
   "source": [
    "clf10 = SVC(C=1.0, cache_size=200, class_weight=None, coef0=0.0, decision_function_shape='ovr', degree=3, gamma='auto', kernel='linear',\n",
    "    max_iter=-1, probability=False, random_state=None, shrinking=True, tol=0.001, verbose=False)\n",
    "clf10.fit(x_train, y_train)\n",
    "print(\"Training score: {:.3f}\".format(clf10.score(x_train, y_train)))\n",
    "print(\"Test score: {:.3f}\".format(clf10.score(x_test, y_test)))"
   ]
  },
  {
   "cell_type": "markdown",
   "metadata": {},
   "source": [
    "Los scores del modelo mejoran considerablemente al utilizar un kernel linear."
   ]
  },
  {
   "cell_type": "markdown",
   "metadata": {},
   "source": [
    "## 5. Validación cruzada:"
   ]
  },
  {
   "cell_type": "markdown",
   "metadata": {},
   "source": [
    "Utilice dos de los métodos de Cross-Validation y aplíquelos a cada método de clasificación."
   ]
  },
  {
   "cell_type": "markdown",
   "metadata": {},
   "source": [
    "## Shuffle Split CV"
   ]
  },
  {
   "cell_type": "code",
   "execution_count": 422,
   "metadata": {
    "collapsed": true
   },
   "outputs": [],
   "source": [
    "from sklearn.model_selection import ShuffleSplit"
   ]
  },
  {
   "cell_type": "markdown",
   "metadata": {},
   "source": [
    "### Bernoulli NB"
   ]
  },
  {
   "cell_type": "code",
   "execution_count": 423,
   "metadata": {},
   "outputs": [
    {
     "name": "stdout",
     "output_type": "stream",
     "text": [
      "Cross-validation scores: [ 0.86666667  0.87719298  0.86666667  0.87017544  0.86666667]\n"
     ]
    }
   ],
   "source": [
    "shuffle_split = ShuffleSplit(test_size=.5, train_size=.5, n_splits=5)\n",
    "clf11=BernoulliNB(alpha=1.0, binarize=15, class_prior=None, fit_prior=True)\n",
    "scores = cross_val_score(clf11, cancer.data, cancer.target, cv=shuffle_split)\n",
    "print(\"Cross-validation scores: {}\".format(scores))"
   ]
  },
  {
   "cell_type": "markdown",
   "metadata": {},
   "source": [
    "### Multinomial NB"
   ]
  },
  {
   "cell_type": "code",
   "execution_count": 424,
   "metadata": {},
   "outputs": [
    {
     "name": "stdout",
     "output_type": "stream",
     "text": [
      "Cross-validation scores: [ 0.88421053  0.90877193  0.8877193   0.89824561  0.88070175]\n"
     ]
    }
   ],
   "source": [
    "shuffle_split = ShuffleSplit(test_size=.5, train_size=.5, n_splits=5)\n",
    "clf12=MultinomialNB(alpha=17, class_prior=None, fit_prior=True)\n",
    "scores = cross_val_score(clf12, cancer.data, cancer.target, cv=shuffle_split)\n",
    "print(\"Cross-validation scores: {}\".format(scores))"
   ]
  },
  {
   "cell_type": "markdown",
   "metadata": {},
   "source": [
    "### Gaussian Process Classifier"
   ]
  },
  {
   "cell_type": "code",
   "execution_count": 425,
   "metadata": {},
   "outputs": [
    {
     "name": "stdout",
     "output_type": "stream",
     "text": [
      "Cross-validation scores: [ 0.92982456  0.92280702  0.89824561  0.93333333  0.9122807 ]\n"
     ]
    }
   ],
   "source": [
    "shuffle_split = ShuffleSplit(test_size=.5, train_size=.5, n_splits=5)\n",
    "clf13=GaussianProcessClassifier(max_iter_predict=50, n_restarts_optimizer=0, random_state=0)\n",
    "scores = cross_val_score(clf13, cancer.data, cancer.target, cv=shuffle_split)\n",
    "print(\"Cross-validation scores: {}\".format(scores))"
   ]
  },
  {
   "cell_type": "markdown",
   "metadata": {},
   "source": [
    "### Quadratic Discrimant Analysis"
   ]
  },
  {
   "cell_type": "code",
   "execution_count": 426,
   "metadata": {},
   "outputs": [
    {
     "name": "stdout",
     "output_type": "stream",
     "text": [
      "Cross-validation scores: [ 0.92280702  0.92982456  0.90877193  0.90877193  0.93333333]\n"
     ]
    }
   ],
   "source": [
    "shuffle_split = ShuffleSplit(test_size=.5, train_size=.5, n_splits=5)\n",
    "clf14=QuadraticDiscriminantAnalysis(priors=None, reg_param=0.7, store_covariance=True, store_covariances=None, tol=0.0001)\n",
    "scores = cross_val_score(clf14, cancer.data, cancer.target, cv=shuffle_split)\n",
    "print(\"Cross-validation scores: {}\".format(scores))"
   ]
  },
  {
   "cell_type": "markdown",
   "metadata": {},
   "source": [
    "### Support Vector Classifier"
   ]
  },
  {
   "cell_type": "code",
   "execution_count": 427,
   "metadata": {},
   "outputs": [
    {
     "name": "stdout",
     "output_type": "stream",
     "text": [
      "Cross-validation scores: [ 0.95789474  0.94035088  0.94736842  0.94035088  0.93684211]\n"
     ]
    }
   ],
   "source": [
    "shuffle_split = ShuffleSplit(test_size=.5, train_size=.5, n_splits=5)\n",
    "clf15=SVC(C=1.0, cache_size=200, class_weight=None, coef0=0.0, decision_function_shape='ovr', degree=3, gamma='auto', kernel='linear',\n",
    "    max_iter=-1, probability=False, random_state=None, shrinking=True, tol=0.001, verbose=False)\n",
    "scores = cross_val_score(clf15, cancer.data, cancer.target, cv=shuffle_split)\n",
    "print(\"Cross-validation scores: {}\".format(scores))"
   ]
  },
  {
   "cell_type": "markdown",
   "metadata": {},
   "source": [
    "## k-fold"
   ]
  },
  {
   "cell_type": "code",
   "execution_count": 428,
   "metadata": {
    "collapsed": true
   },
   "outputs": [],
   "source": [
    "from sklearn.model_selection import cross_val_score"
   ]
  },
  {
   "cell_type": "markdown",
   "metadata": {},
   "source": [
    "### Bernoulli NB"
   ]
  },
  {
   "cell_type": "code",
   "execution_count": 429,
   "metadata": {},
   "outputs": [
    {
     "name": "stdout",
     "output_type": "stream",
     "text": [
      "Cross-validation scores: [ 0.82608696  0.86086957  0.88495575  0.86725664  0.84955752]\n"
     ]
    }
   ],
   "source": [
    "clf16=BernoulliNB(alpha=1.0, binarize=15, class_prior=None, fit_prior=True)\n",
    "scores = cross_val_score(clf16, cancer.data, cancer.target, cv=5)\n",
    "print(\"Cross-validation scores: {}\".format(scores))"
   ]
  },
  {
   "cell_type": "markdown",
   "metadata": {},
   "source": [
    "### Multinomial NB"
   ]
  },
  {
   "cell_type": "code",
   "execution_count": 430,
   "metadata": {},
   "outputs": [
    {
     "name": "stdout",
     "output_type": "stream",
     "text": [
      "Cross-validation scores: [ 0.86956522  0.90434783  0.87610619  0.92920354  0.90265487]\n"
     ]
    }
   ],
   "source": [
    "clf17=MultinomialNB(alpha=17, class_prior=None, fit_prior=True)\n",
    "scores = cross_val_score(clf17, cancer.data, cancer.target, cv=5)\n",
    "print(\"Cross-validation scores: {}\".format(scores))"
   ]
  },
  {
   "cell_type": "markdown",
   "metadata": {},
   "source": [
    "### Gaussian Process Classifier"
   ]
  },
  {
   "cell_type": "code",
   "execution_count": 431,
   "metadata": {},
   "outputs": [
    {
     "name": "stdout",
     "output_type": "stream",
     "text": [
      "Cross-validation scores: [ 0.86956522  0.92173913  0.91150442  0.92035398  0.91150442]\n"
     ]
    }
   ],
   "source": [
    "clf18=GaussianProcessClassifier(max_iter_predict=50, n_restarts_optimizer=0, random_state=0)\n",
    "scores = cross_val_score(clf18, cancer.data, cancer.target, cv=5)\n",
    "print(\"Cross-validation scores: {}\".format(scores))"
   ]
  },
  {
   "cell_type": "markdown",
   "metadata": {},
   "source": [
    "### Quadratic Discrimant Analysis"
   ]
  },
  {
   "cell_type": "code",
   "execution_count": 432,
   "metadata": {},
   "outputs": [
    {
     "name": "stdout",
     "output_type": "stream",
     "text": [
      "Cross-validation scores: [ 0.95652174  0.91304348  0.94690265  0.9380531   0.89380531]\n"
     ]
    }
   ],
   "source": [
    "clf19=QuadraticDiscriminantAnalysis(priors=None, reg_param=0.7, store_covariance=True, store_covariances=None, tol=0.0001)\n",
    "scores = cross_val_score(clf19, cancer.data, cancer.target, cv=5)\n",
    "print(\"Cross-validation scores: {}\".format(scores))"
   ]
  },
  {
   "cell_type": "markdown",
   "metadata": {},
   "source": [
    "### Support Vector Classifier"
   ]
  },
  {
   "cell_type": "code",
   "execution_count": 433,
   "metadata": {},
   "outputs": [
    {
     "name": "stdout",
     "output_type": "stream",
     "text": [
      "Cross-validation scores: [ 0.94782609  0.93043478  0.97345133  0.92035398  0.95575221]\n"
     ]
    }
   ],
   "source": [
    "clf20=SVC(C=1.0, cache_size=200, class_weight=None, coef0=0.0, decision_function_shape='ovr', degree=3, gamma='auto', kernel='linear',\n",
    "    max_iter=-1, probability=False, random_state=None, shrinking=True, tol=0.001, verbose=False)\n",
    "scores = cross_val_score(clf20, cancer.data, cancer.target, cv=5)\n",
    "print(\"Cross-validation scores: {}\".format(scores))"
   ]
  },
  {
   "cell_type": "markdown",
   "metadata": {},
   "source": [
    "## 6. Conclusiones:"
   ]
  },
  {
   "cell_type": "markdown",
   "metadata": {},
   "source": [
    "Destaque las conclusiones más relevantes basado en los resultados obtenidos."
   ]
  },
  {
   "cell_type": "markdown",
   "metadata": {},
   "source": [
    "Al realizer la validación tradicional, se puede ver como los clasificadores Bernouli NB y Support Vector presentan underfitting. El clasificador Quadratic Discriminant y el Gaussian Process presenta más bien overfitting y el que mejor se ajusta de entrada Multinomial NB que da buenos valores para los testing y training scores. Al realizar el afinamiento de parámetros, los resultados mejoran mucho, donde todos los clasificadores empiezan a mandar scores de modelos adecuadamente ajustados, aunque algunos siguen muy cerca del overfitting, ya no hay modelos underfitting. Esto se confirma con la validación cruzada, ya que los valores siguen siendo muy buenos en todos los algoritmos utilizados. Es posible a partir de los atributos, diferenciar entre tejido de cáncer de mama maligno o benigno. "
   ]
  }
 ],
 "metadata": {
  "kernelspec": {
   "display_name": "Python 3",
   "language": "python",
   "name": "python3"
  },
  "language_info": {
   "codemirror_mode": {
    "name": "ipython",
    "version": 3
   },
   "file_extension": ".py",
   "mimetype": "text/x-python",
   "name": "python",
   "nbconvert_exporter": "python",
   "pygments_lexer": "ipython3",
   "version": "3.6.3"
  }
 },
 "nbformat": 4,
 "nbformat_minor": 2
}
